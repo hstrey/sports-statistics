{
 "cells": [
  {
   "cell_type": "markdown",
   "metadata": {},
   "source": [
    "# Statistics of Streakiness"
   ]
  },
  {
   "cell_type": "code",
   "execution_count": 2,
   "metadata": {},
   "outputs": [],
   "source": [
    "%matplotlib inline\n",
    "import numpy as np\n",
    "import matplotlib.pyplot as plt"
   ]
  },
  {
   "cell_type": "markdown",
   "metadata": {},
   "source": [
    "Let us assume that you always hit a shot at a certain percentage p and that the probability of hitting the shot does not depend on the history of hits and misses"
   ]
  },
  {
   "cell_type": "code",
   "execution_count": 3,
   "metadata": {},
   "outputs": [
    {
     "name": "stdout",
     "output_type": "stream",
     "text": [
      "[1 1 0 0 1 1 1 1 1 1]\n"
     ]
    }
   ],
   "source": [
    "sample = np.random.binomial(p=0.5,n=1,size=10)\n",
    "print(sample)"
   ]
  },
  {
   "cell_type": "markdown",
   "metadata": {},
   "source": [
    "Let us now analyze this data for streakiness.  How often do we find 2 1s in row? How often do we find 3 1's in a row."
   ]
  },
  {
   "cell_type": "code",
   "execution_count": 4,
   "metadata": {},
   "outputs": [],
   "source": [
    "def streakiness(data):\n",
    "    ones = np.zeros(len(data))\n",
    "    zeros = np.zeros(len(data))\n",
    "    state = data[0]\n",
    "    streak = 1\n",
    "    for d in data[1:]:\n",
    "        if d!=state:\n",
    "            if state == 1:\n",
    "                ones[streak-1]+=1\n",
    "            else:\n",
    "                zeros[streak-1]+=1\n",
    "            streak = 1\n",
    "            state = d\n",
    "        else:\n",
    "            streak+=1\n",
    "    return ones,zeros"
   ]
  },
  {
   "cell_type": "code",
   "execution_count": 5,
   "metadata": {},
   "outputs": [],
   "source": [
    "length = 1000000\n",
    "ones,zeros = streakiness(np.random.binomial(p=0.5,n=1,size=length))\n",
    "ones_n = ones/length\n",
    "zeros_n = zeros/length\n",
    "x = np.arange(1,len(ones)+1)"
   ]
  },
  {
   "cell_type": "code",
   "execution_count": 6,
   "metadata": {},
   "outputs": [
    {
     "data": {
      "text/plain": [
       "<BarContainer object of 10 artists>"
      ]
     },
     "execution_count": 6,
     "metadata": {},
     "output_type": "execute_result"
    },
    {
     "data": {
      "image/png": "[encoded data removed]",
      "text/plain": [
       "<Figure size 432x288 with 1 Axes>"
      ]
     },
     "metadata": {
      "needs_background": "light"
     },
     "output_type": "display_data"
    }
   ],
   "source": [
    "plt.bar(x[:10],ones_n[:10])"
   ]
  },
  {
   "cell_type": "code",
   "execution_count": 7,
   "metadata": {},
   "outputs": [
    {
     "name": "stdout",
     "output_type": "stream",
     "text": [
      "[0.125571 0.062114 0.031403 0.015578 0.007793 0.003918 0.001936 0.000967\n",
      " 0.000504 0.000259]\n"
     ]
    }
   ],
   "source": [
    "print(ones_n[:10])"
   ]
  },
  {
   "cell_type": "markdown",
   "metadata": {},
   "source": [
    "lets compare that to the probabilities that we expect from probability theory:\n",
    "To find a streak of 4 1s we need a 011110 that occurs with a probability of $p^{4}*(1-p)^2$"
   ]
  },
  {
   "cell_type": "code",
   "execution_count": 8,
   "metadata": {},
   "outputs": [
    {
     "name": "stdout",
     "output_type": "stream",
     "text": [
      "[0.125, 0.0625, 0.03125, 0.015625, 0.0078125, 0.00390625, 0.001953125, 0.0009765625, 0.00048828125, 0.000244140625, 0.0001220703125, 6.103515625e-05, 3.0517578125e-05, 1.52587890625e-05]\n"
     ]
    }
   ],
   "source": [
    "p=0.5\n",
    "t_ones = [p**i*(1-p)**2 for i in range(1,15)]\n",
    "print(t_ones)"
   ]
  },
  {
   "cell_type": "markdown",
   "metadata": {},
   "source": [
    "Stephen Curry shot 1585 times in the 2016-2017 season and hit approximately 50% of his shots"
   ]
  },
  {
   "cell_type": "code",
   "execution_count": 10,
   "metadata": {},
   "outputs": [
    {
     "name": "stdout",
     "output_type": "stream",
     "text": [
      "[6.60416667e+01 2.47656250e+01 9.90625000e+00 4.12760417e+00\n",
      " 1.76897321e+00 7.73925781e-01 3.43967014e-01 1.54785156e-01\n",
      " 7.03568892e-02 3.22469076e-02 1.48831881e-02 6.91005162e-03\n",
      " 3.22469076e-03 1.51157379e-03]\n"
     ]
    }
   ],
   "source": [
    "print(np.array(t_ones) * 1585/np.arange(3,17))"
   ]
  },
  {
   "cell_type": "markdown",
   "metadata": {
    "collapsed": true
   },
   "source": [
    "Stephen Curry in the 2016/17 season hit 13 shots in a row (see Stephen Curry notebook).  This event, according to our calculation, has a probability of 0.003 or 0.3%.  This should happen on average every 1/0.003=333th season.  Pretty rare but not impossible."
   ]
  }
 ],
 "metadata": {
  "kernelspec": {
   "display_name": "Python 3",
   "language": "python",
   "name": "python3"
  },
  "language_info": {
   "codemirror_mode": {
    "name": "ipython",
    "version": 3
   },
   "file_extension": ".py",
   "mimetype": "text/x-python",
   "name": "python",
   "nbconvert_exporter": "python",
   "pygments_lexer": "ipython3",
   "version": "3.6.6"
  }
 },
 "nbformat": 4,
 "nbformat_minor": 2
}
