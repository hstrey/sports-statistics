{
 "cells": [
  {
   "cell_type": "code",
   "execution_count": 1,
   "metadata": {
    "collapsed": false
   },
   "outputs": [
    {
     "name": "stdout",
     "output_type": "stream",
     "text": [
      "2016-17\n"
     ]
    }
   ],
   "source": [
    "import nba_py as nba\n",
    "print(nba.constants.CURRENT_SEASON)"
   ]
  },
  {
   "cell_type": "code",
   "execution_count": 5,
   "metadata": {
    "collapsed": false
   },
   "outputs": [
    {
     "data": {
      "text/html": [
       "<div>\n",
       "<table border=\"1\" class=\"dataframe\">\n",
       "  <thead>\n",
       "    <tr style=\"text-align: right;\">\n",
       "      <th></th>\n",
       "      <th>GAME_DATE_EST</th>\n",
       "      <th>GAME_SEQUENCE</th>\n",
       "      <th>GAME_ID</th>\n",
       "      <th>GAME_STATUS_ID</th>\n",
       "      <th>GAME_STATUS_TEXT</th>\n",
       "      <th>GAMECODE</th>\n",
       "      <th>HOME_TEAM_ID</th>\n",
       "      <th>VISITOR_TEAM_ID</th>\n",
       "      <th>SEASON</th>\n",
       "      <th>LIVE_PERIOD</th>\n",
       "      <th>LIVE_PC_TIME</th>\n",
       "      <th>NATL_TV_BROADCASTER_ABBREVIATION</th>\n",
       "      <th>LIVE_PERIOD_TIME_BCAST</th>\n",
       "      <th>WH_STATUS</th>\n",
       "    </tr>\n",
       "  </thead>\n",
       "  <tbody>\n",
       "    <tr>\n",
       "      <th>0</th>\n",
       "      <td>2016-12-25T00:00:00</td>\n",
       "      <td>2</td>\n",
       "      <td>0021600457</td>\n",
       "      <td>3</td>\n",
       "      <td>Final</td>\n",
       "      <td>20161225/GSWCLE</td>\n",
       "      <td>1610612739</td>\n",
       "      <td>1610612744</td>\n",
       "      <td>2016</td>\n",
       "      <td>4</td>\n",
       "      <td></td>\n",
       "      <td>ABC</td>\n",
       "      <td>Q4       - ABC</td>\n",
       "      <td>1</td>\n",
       "    </tr>\n",
       "  </tbody>\n",
       "</table>\n",
       "</div>"
      ],
      "text/plain": [
       "         GAME_DATE_EST  GAME_SEQUENCE     GAME_ID  GAME_STATUS_ID  \\\n",
       "0  2016-12-25T00:00:00              2  0021600457               3   \n",
       "\n",
       "  GAME_STATUS_TEXT         GAMECODE  HOME_TEAM_ID  VISITOR_TEAM_ID SEASON  \\\n",
       "0            Final  20161225/GSWCLE    1610612739       1610612744   2016   \n",
       "\n",
       "   LIVE_PERIOD LIVE_PC_TIME NATL_TV_BROADCASTER_ABBREVIATION  \\\n",
       "0            4                                           ABC   \n",
       "\n",
       "  LIVE_PERIOD_TIME_BCAST  WH_STATUS  \n",
       "0         Q4       - ABC          1  "
      ]
     },
     "execution_count": 5,
     "metadata": {},
     "output_type": "execute_result"
    }
   ],
   "source": [
    "from nba_py import game\n",
    "boxscore_summary = game.BoxscoreSummary(\"0021600457\")\n",
    "boxscore_summary.game_summary()\n"
   ]
  },
  {
   "cell_type": "code",
   "execution_count": null,
   "metadata": {
    "collapsed": true
   },
   "outputs": [],
   "source": []
  }
 ],
 "metadata": {
  "kernelspec": {
   "display_name": "Python [conda env:python3]",
   "language": "python",
   "name": "conda-env-python3-py"
  },
  "language_info": {
   "codemirror_mode": {
    "name": "ipython",
    "version": 3
   },
   "file_extension": ".py",
   "mimetype": "text/x-python",
   "name": "python",
   "nbconvert_exporter": "python",
   "pygments_lexer": "ipython3",
   "version": "3.5.2"
  }
 },
 "nbformat": 4,
 "nbformat_minor": 2
}
